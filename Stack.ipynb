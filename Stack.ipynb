{
 "cells": [
  {
   "cell_type": "markdown",
   "metadata": {},
   "source": [
    "# Stacks\n",
    "\n",
    "A stack is a data structure that adds and removes data via a LIFO (last in first out) system. That is, the last item that is inserted will be the first item that is removed."
   ]
  },
  {
   "cell_type": "markdown",
   "metadata": {},
   "source": [
    "## Monotonic Stack\n",
    "\n",
    "A monotonic stack enforces that the data in the stack is either always increasing or decreasing."
   ]
  },
  {
   "cell_type": "markdown",
   "metadata": {},
   "source": [
    "### Application\n",
    "https://leetcode.com/problems/daily-temperatures/description/\n",
    "\n",
    "- Given a list of temperatures indexed by day number, return a list where output[i] indicates the offset between the first element in temperatures[i+1:] that is greater than temperatures[i]. If there are no greater temperatures for a given temperature, provide 0.\n",
    "\n",
    "#### Intuition\n",
    "For each element, we need to find the **next greater element**. I think it's quite easy to see how we can brute force this with an O(n^2) runtime with nested for loops. But there is a better solution. Let's iterate across the temperatures array, pushing each pair of (index, temperature) onto a stack. The stack essentially represents previously encountered temperatures that have not yet been identified to have a greater next temperature. If we encounter a value greater than the current top value, we keep popping values until the top value is greater than or equal to the current temperature. For each pop, we set the output array to the difference between the current index and the stored index which is the number of days to the next greatest temperature."
   ]
  },
  {
   "cell_type": "code",
   "execution_count": 4,
   "metadata": {},
   "outputs": [
    {
     "name": "stdout",
     "output_type": "stream",
     "text": [
      "temperatures: [73, 74, 75, 71, 69, 72, 76, 73]\n",
      "[[0, 73]]\n",
      "[[1, 74]]\n",
      "[[2, 75]]\n",
      "[[2, 75], [3, 71]]\n",
      "[[2, 75], [3, 71], [4, 69]]\n",
      "[[2, 75], [5, 72]]\n",
      "[[6, 76]]\n",
      "[[6, 76], [7, 73]]\n",
      "[1, 1, 4, 2, 1, 1, 0, 0]\n"
     ]
    }
   ],
   "source": [
    "from typing import List\n",
    "\n",
    "def dailyTemperatures(temperatures: List[int]) -> List[int]:\n",
    "    # initialize output array with default 0 vlaues\n",
    "    num_days_till_warmer = [0] * len(temperatures)\n",
    "    stack = []\n",
    "\n",
    "    for i, t in enumerate(temperatures):\n",
    "        \n",
    "        # if the temperature at top of the stack is less than the current temperature, then the next greatest temperature has been found. Continuously pop values off \n",
    "        # the stack \n",
    "        while stack and stack[-1][1] < temperatures[i]:\n",
    "            prev_i, prev_t  = stack.pop()\n",
    "            num_days_till_warmer[prev_i] = i - prev_i\n",
    "\n",
    "        # push index and temperature onto stack\n",
    "        stack.append([i, t])\n",
    "\n",
    "    return num_days_till_warmer\n",
    "\n",
    "temperatures = [73,74,75,71,69,72,76,73]\n",
    "print(\"temperatures: \" + str(temperatures))\n",
    "print(dailyTemperatures(temperatures))\n"
   ]
  }
 ],
 "metadata": {
  "kernelspec": {
   "display_name": "Python 3",
   "language": "python",
   "name": "python3"
  },
  "language_info": {
   "codemirror_mode": {
    "name": "ipython",
    "version": 3
   },
   "file_extension": ".py",
   "mimetype": "text/x-python",
   "name": "python",
   "nbconvert_exporter": "python",
   "pygments_lexer": "ipython3",
   "version": "3.12.1"
  }
 },
 "nbformat": 4,
 "nbformat_minor": 2
}
