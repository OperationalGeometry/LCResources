{
 "cells": [
  {
   "cell_type": "markdown",
   "metadata": {},
   "source": [
    "# Binary Search Deep Dive\n",
    "\n",
    "Binary search is the best way of finding a target element in a sorted collection. Here, I will decompose the algorithm into its' most fundamental components, generalize its' functionality, and then apply it to various prototypical leetcode problems.\n",
    "\n",
    "Lesson Chunks:\n",
    "- Algorithm Introduction and Decomposition\n",
    "- Application #1\n",
    "- Algorithm Generalization\n",
    "- Application #2"
   ]
  },
  {
   "cell_type": "markdown",
   "metadata": {},
   "source": [
    "## Binary Search Intro"
   ]
  },
  {
   "cell_type": "code",
   "execution_count": 5,
   "metadata": {},
   "outputs": [
    {
     "data": {
      "text/plain": [
       "9"
      ]
     },
     "execution_count": 5,
     "metadata": {},
     "output_type": "execute_result"
    }
   ],
   "source": [
    "def binarySearch(sorted, target):\n",
    "    # returns the index of a specified target element in a sorted array in O(log(n)) time. if sorted does not contain the target, return -1.\n",
    "\n",
    "    L, R = 0, len(sorted) - 1\n",
    "    while L <= R:\n",
    "        mid = (L + R) // 2\n",
    "\n",
    "        if sorted[mid] > target:\n",
    "            R = mid - 1\n",
    "        elif sorted[mid] < target:\n",
    "            L = mid + 1\n",
    "        else:\n",
    "            return mid\n",
    "    return -1\n",
    "\n",
    "sorted = [0, 1, 1, 2, 3, 5, 8, 13, 21, 34, 55]\n",
    "targetIdx = binarySearch(sorted, 34)\n",
    "targetIdx"
   ]
  },
  {
   "cell_type": "markdown",
   "metadata": {},
   "source": [
    "## High Level Overview\n",
    "The key idea here is that when we guess an index of where the target element might be in the array, even if we get it wrong, we still get information regarding where the target element is relative to the guess. Let's say we always guess the middle of the array first. If the target is less than the middle element, we know that the target must be in the bottom half of the array. If the target is greater, it has to be in the upper half. Conversely, consider an unsorted collection. If we get the guess wrong, we don't get information about where to search next. This is why binary search only works on *sorted* arrays.\n",
    "\n",
    "- We initalize two pointers, a left and a right at the beginning and end elements of the array respectively. This bounds our search space. In order to achieve O(log(n)) runtime, each iteration of our guess needs to divide our search space by a constant factor.\n",
    "\n",
    "- We start our while loop, and iterate only if the left pointer is less than or equal to the right pointer. This is because if the pointers ever cross each other, that means we've searched the entire array without finding the target, so we exit the loop and return -1. \n",
    "\n",
    "- Loop Invariant:\n",
    "    1) Get the middle value by floor dividing the sum of the L and R indices, ensuring we don't get a float value. The mid index partitions the search space into a lower and upper portion.\n",
    "    2) If the element at mid is greater than the target, that means the target element is in the lower portion. Therefore, change the R pointer to mid - 1. \n",
    "    3) Else, if the element at mid is less than the target, that means the target element is in the upper portion. Therefore, change the L pointer to mid + 1.\n",
    "    4) Otherwise, return mid\n",
    "\n",
    "\n",
    "A good way to check your understanding of this concept is to do this problem:\n",
    "https://leetcode.com/problems/search-a-2d-matrix/"
   ]
  },
  {
   "cell_type": "markdown",
   "metadata": {},
   "source": [
    "## Application #1\n",
    "\n",
    "(From LC #74) \\\n",
    "You are given an m x n integer matrix matrix with the following two properties:\n",
    "- Each row is sorted in non-decreasing order.\n",
    "- The first integer of each row is greater than the last integer of the previous row.\n",
    "\n",
    "Given an integer target, return true if target is in matrix or false otherwise. You must write a solution in O(log(m * n)) time complexity.\n",
    "\n",
    "### Decomposition\n",
    "\n",
    "Let's break down the problem.\n",
    " We are searching for a target element in a matrix (a list of lists). All the rows in the matrix are sorted, and the columns in the matrix are sorted. Our desired runtime complexity is O(log(m) + log(n)). If we bruteforced the search with two for loops, we would get O(m * n). This isn't good enough. The runtime complexity implies that we need to do two binary searches.\n",
    "\n",
    "The optimal way approach this would be to binary search the first column to find out which row potentially contains the target, and then do binary search on the row we identified to find (or not find) the target.\n",
    "\n",
    "Searching the given row is the prototypical example of what binary search is, with no real variation, so we can implement that from the get go:"
   ]
  },
  {
   "cell_type": "code",
   "execution_count": 6,
   "metadata": {},
   "outputs": [],
   "source": [
    "\n",
    "def searchRow(matrix: list[list[int]], target: int, row: int) -> bool:\n",
    "    L, R = 0, len(matrix[row]) - 1\n",
    "\n",
    "    while L <= R:\n",
    "        mid = (L + R) // 2\n",
    "\n",
    "        if matrix[row][mid] < target:\n",
    "            L = mid + 1\n",
    "        elif matrix[row][mid] > target:\n",
    "            R = mid - 1\n",
    "        else:\n",
    "            return True\n",
    "        \n",
    "    return False"
   ]
  },
  {
   "cell_type": "markdown",
   "metadata": {},
   "source": [
    "Searching the first column is a bit trickier. We can't use our template because if the target is greater than the current guess, we can't exclude the current guess. This means we have to find the least column index where the target is greater than current guess. So we need to keep track of the least column index where the first element in the row given by that index is less than the target. Here's what it looks like:"
   ]
  },
  {
   "cell_type": "code",
   "execution_count": 7,
   "metadata": {},
   "outputs": [],
   "source": [
    "def searchFirstColumn(matrix: list[list[int]], target: int) -> int:\n",
    "    L, R = 0, len(matrix) - 1\n",
    "    row = 0\n",
    "\n",
    "    while L <= R:\n",
    "        mid = (L + R) // 2\n",
    "\n",
    "        if matrix[mid][0] > target:\n",
    "            R = mid - 1\n",
    "        else:\n",
    "            row = mid\n",
    "            L = mid + 1\n",
    "    \n",
    "    return row"
   ]
  },
  {
   "cell_type": "markdown",
   "metadata": {},
   "source": [
    "Putting it all together:"
   ]
  },
  {
   "cell_type": "code",
   "execution_count": 8,
   "metadata": {},
   "outputs": [
    {
     "name": "stdout",
     "output_type": "stream",
     "text": [
      "True\n",
      "False\n"
     ]
    }
   ],
   "source": [
    "def searchMatrix(matrix: list[list[int]], target: int) -> bool:\n",
    "    row = searchFirstColumn(matrix, target)\n",
    "    return searchRow(matrix, target, row)\n",
    "\n",
    "\n",
    "matrix = [[1,3,5,7],[10,11,16,20],[23,30,34,60]]\n",
    "target1 = 3\n",
    "target2 = 13\n",
    "\n",
    "print(searchMatrix(matrix, target1))\n",
    "print(searchMatrix(matrix, target2))\n",
    "\n"
   ]
  }
 ],
 "metadata": {
  "kernelspec": {
   "display_name": "Python 3",
   "language": "python",
   "name": "python3"
  },
  "language_info": {
   "codemirror_mode": {
    "name": "ipython",
    "version": 3
   },
   "file_extension": ".py",
   "mimetype": "text/x-python",
   "name": "python",
   "nbconvert_exporter": "python",
   "pygments_lexer": "ipython3",
   "version": "3.12.1"
  }
 },
 "nbformat": 4,
 "nbformat_minor": 2
}
