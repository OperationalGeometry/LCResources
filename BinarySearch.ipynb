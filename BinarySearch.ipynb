{
 "cells": [
  {
   "cell_type": "markdown",
   "metadata": {},
   "source": [
    "# Binary Search Deep Dive\n",
    "\n",
    "Binary search is the best way of finding a target element in a sorted collection. Here, I will decompose the algorithm into its' most fundamental components, generalize its' functionality, and then apply it to various prototypical leetcode problems."
   ]
  },
  {
   "cell_type": "code",
   "execution_count": 3,
   "metadata": {},
   "outputs": [
    {
     "data": {
      "text/plain": [
       "9"
      ]
     },
     "execution_count": 3,
     "metadata": {},
     "output_type": "execute_result"
    }
   ],
   "source": [
    "def binarySearch(sorted, target):\n",
    "    # returns the index of a specified target element in a sorted array in O(log(n)) time. if sorted does not contain the target, return -1.\n",
    "\n",
    "    L, R = 0, len(sorted) - 1\n",
    "    while L <= R:\n",
    "        mid = (L + R) // 2\n",
    "\n",
    "        if sorted[mid] > target:\n",
    "            R = mid - 1\n",
    "        elif sorted[mid] < target:\n",
    "            L = mid + 1\n",
    "        else:\n",
    "            return mid\n",
    "    return -1\n",
    "\n",
    "sorted = [0, 1, 1, 2, 3, 5, 8, 13, 21, 34, 55]\n",
    "targetIdx = binarySearch(sorted, 34)\n",
    "targetIdx"
   ]
  }
 ],
 "metadata": {
  "kernelspec": {
   "display_name": "Python 3",
   "language": "python",
   "name": "python3"
  },
  "language_info": {
   "codemirror_mode": {
    "name": "ipython",
    "version": 3
   },
   "file_extension": ".py",
   "mimetype": "text/x-python",
   "name": "python",
   "nbconvert_exporter": "python",
   "pygments_lexer": "ipython3",
   "version": "3.12.1"
  }
 },
 "nbformat": 4,
 "nbformat_minor": 2
}
