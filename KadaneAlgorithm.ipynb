{
 "cells": [
  {
   "cell_type": "markdown",
   "metadata": {},
   "source": [
    "# Kadane's Algorithm\n",
    "Kadane's algorithm is an O(n) solution to the **Maximum Subarray Sum** problem. Specifically, it allows us to find the maximum sum of all the contiguous subarrays in an array. There are many extensions of the algorithm used to solve variants of this problem, but let's first break it down to understand each part of the algorithm.\n",
    "\n",
    "## Maximum Subarray\n",
    "(source: LC) Given an integer array nums, return the maximum sum of any contiguous subarray.\n",
    "\n",
    "### Brute Force\n",
    "Start with the naive approach will make it easier to identify the optimization. Let's search over the space of all possible subarrays and then find the maximum sum. So for each index i, we can calculate the sum of the subarray nums[i], nums[i+1], ... , nums[j-1], nums[j], and compare it to our tracked max_sum and store the maximum."
   ]
  },
  {
   "cell_type": "code",
   "execution_count": 2,
   "metadata": {},
   "outputs": [],
   "source": [
    "def subarray_sum_naive(nums: List[int]) -> int:\n",
    "    max_sum = -math.inf\n",
    "\n",
    "    for i in range(len(nums)):\n",
    "\n",
    "        # find and store the max sum over all j where i < j < len(nums)\n",
    "        curr_sum = 0\n",
    "        for j in range(i, len(nums)):\n",
    "            curr_sum += nums[j]\n",
    "            max_sum = max(curr_sum, max_sum)\n",
    "    \n",
    "    return max_sum"
   ]
  },
  {
   "cell_type": "markdown",
   "metadata": {},
   "source": [
    "### Optimization\n",
    "Notice that we are constantly recalculating "
   ]
  },
  {
   "cell_type": "code",
   "execution_count": 11,
   "metadata": {},
   "outputs": [
    {
     "name": "stdout",
     "output_type": "stream",
     "text": [
      "[-2]\n",
      "-2\n",
      "\n",
      "[1]\n",
      "1\n",
      "\n",
      "[1, -3]\n",
      "-2\n",
      "\n",
      "[4]\n",
      "4\n",
      "\n",
      "[4, -1]\n",
      "3\n",
      "\n",
      "[4, -1, 2]\n",
      "5\n",
      "\n",
      "[4, -1, 2, 1]\n",
      "6\n",
      "\n",
      "[4, -1, 2, 1, -5]\n",
      "1\n",
      "\n",
      "[4, -1, 2, 1, -5, 4]\n",
      "5\n",
      "\n"
     ]
    },
    {
     "data": {
      "text/plain": [
       "6"
      ]
     },
     "execution_count": 11,
     "metadata": {},
     "output_type": "execute_result"
    }
   ],
   "source": [
    "from typing import List\n",
    "\n",
    "def max_subarray_sum(nums: List[int]) -> int:\n",
    "    max_sum = nums[0]\n",
    "    curr_sum = 0\n",
    "    curr_max_subarray = []\n",
    "\n",
    "    for i, n in enumerate(nums):\n",
    "        if curr_sum > 0:\n",
    "            curr_sum = curr_sum + n\n",
    "            curr_max_subarray.append(n)\n",
    "        else:\n",
    "            curr_sum = n\n",
    "            curr_max_subarray = [n]\n",
    "\n",
    "        max_sum = max(max_sum, curr_sum)\n",
    "        print(curr_max_subarray)\n",
    "        print(sum(curr_max_subarray))\n",
    "        print()\n",
    "    return max_sum\n",
    "\n",
    "test_nums_1 = [-2,1,-3,4,-1,2,1,-5,4]\n",
    "max_subarray_sum(test_nums_1)"
   ]
  },
  {
   "cell_type": "markdown",
   "metadata": {},
   "source": [
    "## Decomposition\n",
    "While this code looks simple, I find it quite difficult to think about. I think the best way to approach this problem is via loop invariants.\n",
    "\n",
    "- Initialization:\n",
    "    - We need a way to track the maximum overall sum, and the current maximum sum at every iteration. Before the loop starts, we initialize max_sum as the first element, and the current sum as 0. We can trivially verify that the maximum sum before the first iteration is equal to the first element, assuming that nums has a length greater than or equal to 1.\n",
    "- Loop Invariant at index j:\n",
    "    - if the previous current sum is negative, set it to just the current element. This is because regardless of whether the current element is negative or positive, it's better to start a fresh subarray from the current element rather than addding the current element to an already negative curr_sum. Otherwise, add the current element to the previous current sum.\n",
    "    - update max_sum to represent the maximum of the current sum and previous maximum sum\n",
    "- Termination:\n",
    "    - maximum sum always has the maximum value of all the encountered curr_sums\n",
    "\n"
   ]
  }
 ],
 "metadata": {
  "kernelspec": {
   "display_name": "Python 3",
   "language": "python",
   "name": "python3"
  },
  "language_info": {
   "codemirror_mode": {
    "name": "ipython",
    "version": 3
   },
   "file_extension": ".py",
   "mimetype": "text/x-python",
   "name": "python",
   "nbconvert_exporter": "python",
   "pygments_lexer": "ipython3",
   "version": "3.12.1"
  }
 },
 "nbformat": 4,
 "nbformat_minor": 2
}
