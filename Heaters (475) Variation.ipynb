{
 "cells": [
  {
   "cell_type": "markdown",
   "metadata": {},
   "source": [
    "# Minimum Visual Radius for Surveillance System\n",
    "## Problem Statement\n",
    "Given an list of positions of targets and a list of positions of detection units, determine the minimum radius necessary for the surveillance system to have eyes on all the targets."
   ]
  },
  {
   "cell_type": "code",
   "execution_count": 17,
   "metadata": {},
   "outputs": [],
   "source": [
    "from typing import List\n",
    "\n",
    "def find_radius(targets: List[int], detectors: List[int]) -> int:\n",
    "    # input: target position list, detector position list\n",
    "    # output: minimum radius needed to detect all targets\n",
    "    return"
   ]
  },
  {
   "cell_type": "markdown",
   "metadata": {},
   "source": [
    "## Decomp\n",
    "We need to search the interval [0, k] where k is the maximum coordinate between the targets and detectors array. This search space is naturally sorted, so we can simply do a binary search to minimize the viable radii. We also need a function, checkStandard(radius, ...) that returns True or False whether or not the input radius allows the system to detect all targets. This function will help us decide which subspace to search in the subsequent iteration when we divide our search space in 2 as part of binary search. \n",
    "\n",
    "We know that we will use checkStandard(...) at every iteration. Therefore, utilizing the brute force O(n * m) algorithm at every call doesn't seem efficient at all. If we preprocess the input lists and sort them, we can implement a linear scan across both arrays and exploit some nice monotonicity properties to achieve O(n + m) runtime complexity. \n",
    "\n",
    "Specifically, we know that if we cannot heat targets[i] with detectors[j], we don't need to recheck targets[i] with detectors[0],...,detectors[j-1], because since the positions of the detectors are always smaller, they're always going to be outside the visual radius of detectors[j]. So instead, we should start checking detectors[j+1],...,detectors[len(detectors) - 1]."
   ]
  },
  {
   "cell_type": "code",
   "execution_count": 29,
   "metadata": {},
   "outputs": [],
   "source": [
    "def check_radius(targets: List[int], detectors: List[int], radius: int) -> bool:\n",
    "    ''' For a given visual radius, check if each target is within the radius of any detector.'''\n",
    "    \n",
    "    i, j = 0, 0\n",
    "    # iterate across targets\n",
    "    while i < len(targets):\n",
    "        \n",
    "        # check if target is within radius of current detector\n",
    "        if abs(targets[i] - detectors[j]) <= radius:\n",
    "            # increment target index to check next target on the subsequent iteration\n",
    "            i +=1\n",
    "        else:\n",
    "            # otherwise, check the next detector\n",
    "            j += 1\n",
    "\n",
    "        # if we've checked all the detectors before all the targets have been checked, we know that there are targets outside of detection radius\n",
    "        if j == len(detectors):\n",
    "            return False\n",
    "        \n",
    "    return True"
   ]
  },
  {
   "cell_type": "code",
   "execution_count": 27,
   "metadata": {},
   "outputs": [],
   "source": [
    "def min_search_radius(targets: List[int], detectors: List[int]) -> int:\n",
    "    # binary search possible radii space. assume targets and detectors are sorted\n",
    "    L, R = 0, max(targets[-1], detectors[-1])\n",
    "    min_radius = R\n",
    "    while L <= R:\n",
    "        mid = (L + R) // 2\n",
    "\n",
    "        # if radius given by midpoint is valid, store the value and then check lower radii values. Otherwise, check larger values\n",
    "        if check_radius(targets, detectors, mid):\n",
    "            R = mid - 1\n",
    "            min_radius = min(min_radius, mid)\n",
    "        else:\n",
    "            L = mid + 1\n",
    "\n",
    "        # if radius given by midpoint is not valid, check larger radii values\n",
    "    return min_radius"
   ]
  },
  {
   "cell_type": "code",
   "execution_count": 31,
   "metadata": {},
   "outputs": [
    {
     "name": "stdout",
     "output_type": "stream",
     "text": [
      "1\n",
      "1\n",
      "3\n"
     ]
    }
   ],
   "source": [
    "def find_radius(targets: List[int], detectors: List[int]) -> int:\n",
    "    targets.sort()\n",
    "    detectors.sort()\n",
    "\n",
    "    min_radius = min_search_radius(targets, detectors)\n",
    "    return min_radius\n",
    "\n",
    "targets1 = [1,2,3]\n",
    "detectors1 = [2]\n",
    "targets2 = [1,2,3,4]\n",
    "detectors2 = [1,4]\n",
    "targets3 = [1,5]\n",
    "detectors3 = [2]\n",
    "print(find_radius(targets1, detectors1))\n",
    "print(find_radius(targets2, detectors2))\n",
    "print(find_radius(targets3, detectors3))\n"
   ]
  }
 ],
 "metadata": {
  "kernelspec": {
   "display_name": "Python 3",
   "language": "python",
   "name": "python3"
  },
  "language_info": {
   "codemirror_mode": {
    "name": "ipython",
    "version": 3
   },
   "file_extension": ".py",
   "mimetype": "text/x-python",
   "name": "python",
   "nbconvert_exporter": "python",
   "pygments_lexer": "ipython3",
   "version": "3.12.1"
  }
 },
 "nbformat": 4,
 "nbformat_minor": 2
}
